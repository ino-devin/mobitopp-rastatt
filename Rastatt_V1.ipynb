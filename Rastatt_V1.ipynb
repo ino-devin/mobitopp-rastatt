{
 "cells": [
  {
   "cell_type": "code",
   "id": "initial_id",
   "metadata": {
    "collapsed": true,
    "ExecuteTime": {
     "end_time": "2025-05-23T09:21:35.092344Z",
     "start_time": "2025-05-23T09:21:34.648027Z"
    }
   },
   "source": [
    "#Langzeitmodus - Bevölkerungssynthese\n",
    "\n",
    "# Ergebnisordner des Langzeitmoduls\n",
    "_path = r\"C:\\Users\\devin.feng\\Desktop\\Git\\mobitopp-rastatt\\output\\rastatt\\demand-data\"\n",
    "### Analyse der Haushalte\n",
    "_HH = pd.read_csv(join(_path, \"household.csv\"), sep=\";\")\n",
    "# Haushalts-Attribute\n",
    "household_attributes = list(_HH.columns)\n",
    "df = pd.DataFrame(household_attributes)\n",
    "# Anzahl Haushalte\n",
    "num_of_HH = len(_HH)\n",
    "# Haushalte pro Zelle\n",
    "HH_per_zone = _HH.homeZone.value_counts()\n",
    "# Anzahl der Pkw pro Haushalt\n",
    "cars_per_household = _HH.totalNumberOfCars.value_counts()\n",
    "\n",
    "print(\"HH Attributes Spalten: \", household_attributes)\n",
    "print(\"Num. HHs: \", num_of_HH)\n",
    "print(\"Avg. HH pro Zelle: \", HH_per_zone.mean())\n",
    "print(\"Anzahl Zellen: \", len(HH_per_zone))\n",
    "print(\"Anzahl der Pkw pro Haushalt: \", cars_per_household)\n",
    "\n",
    "### Analyse der Personen\n",
    "_persons = pd.read_csv(join(_path, \"person.csv\"), sep=\";\")\n",
    "# Personen-Attribute\n",
    "person_attributes = list(_persons.columns)\n",
    "# Anzahl Personen\n",
    "num_of_persons = len(_persons)\n",
    "# Alter\n",
    "mean_age = _persons.age.mean()\n",
    "# Geschlecht\n",
    "gender_distr = _persons.gender.value_counts(normalize=True)\n",
    "# Beschäftigung\n",
    "employment_distr = _persons.employment.value_counts()\n",
    "#Anzahl Personen pro Haushalt\n",
    "household_size_distr = _persons.groupby(\"householdId\").size().value_counts()\n",
    "### Auswertung Mobilitaetswerkzeuge\n",
    "# OeV-Zeitkarte\n",
    "ticket_distr = _persons.hasCommuterTicket.value_counts()\n",
    "# Fuehrerschein\n",
    "license_distr = _persons.hasLicense.value_counts()\n",
    "\n",
    "### Verschneiden der Personen- und Haushaltstabelle\n",
    "### (für manche Fragestellungen erforderlich)\n",
    "_merged = pd.merge(_persons, _HH, on=\"householdId\")\n",
    "_age = _merged.age #Abkürzung für das 'age' attribut\n",
    "# Verteilung der Minderjaehrigen bzw. Volljaehrigen\n",
    "# in die Verkehrszellen\n",
    "persons_per_zone = _merged.homeZone.value_counts()\n",
    "minors_per_zone = _merged[_age < 18].homeZone.value_counts()\n",
    "adults_per_zone = _merged[_age >= 18].homeZone.value_counts()\n",
    "\n",
    "print(\"Person Attributes Spalten: \", person_attributes)\n",
    "print(\"Anzahl Personen: \", num_of_persons)\n",
    "print(\"Durchschnittsalter: \", mean_age)\n",
    "\n"
   ],
   "outputs": [
    {
     "name": "stdout",
     "output_type": "stream",
     "text": [
      "HH Attributes Spalten:  ['householdId', 'year', 'householdNumber', 'nominalSize', 'domCode', 'type', 'homeZone', 'homeLocation', 'homeX', 'homeY', 'numberOfMinors', 'numberOfNotSimulatedChildren', 'totalNumberOfCars', 'income', 'incomeClass', 'economicalStatus', 'canChargePrivately']\n",
      "Num. HHs:  46283\n",
      "Avg. HH pro Zelle:  984.7446808510638\n",
      "Anzahl Zellen:  47\n",
      "Anzahl der Pkw pro Haushalt:  totalNumberOfCars\n",
      "1    18804\n",
      "2    17069\n",
      "0     6442\n",
      "3     3147\n",
      "4      821\n",
      "Name: count, dtype: int64\n",
      "Person Attributes Spalten:  ['personId', 'personNumber', 'householdId', 'age', 'employment', 'gender', 'graduation', 'income', 'hasBike', 'hasAccessToCar', 'hasPersonalCar', 'hasCommuterTicket', 'hasLicense', 'preferencesSurvey', 'preferencesSimulation', 'eMobilityAcceptance', 'chargingInfluencesDestinationChoice', 'mobilityProviderCustomership']\n",
      "Anzahl Personen:  104797\n",
      "Durchschnittsalter:  43.935589759248835\n"
     ]
    }
   ],
   "execution_count": 7
  },
  {
   "metadata": {
    "ExecuteTime": {
     "end_time": "2025-05-23T09:23:11.357538Z",
     "start_time": "2025-05-23T09:22:55.700501Z"
    }
   },
   "cell_type": "code",
   "source": [
    "# Short term - SIMULIERTE WEGE\n",
    "import pandas as pd\n",
    "from os.path import join\n",
    "import matplotlib\n",
    "\n",
    "(matplotlib.style.use('fivethirtyeight'))\n",
    "\n",
    "_path = r\"C:\\Users\\devin.feng\\Desktop\\Git\\mobitopp-rastatt\\output\"\n",
    "_short_term_path = join(_path, 'rastatt/results/simulation') # muss 'rastatt/results/simulation' sein (Handbuch falsch)\n",
    "_long_term_path = join(_path, 'rastatt/demand-data')\n",
    "### Einstieg (Uebersicht ueber die Daten gewinnen) ###\n",
    "_trip_file = join(_short_term_path, 'demandsimulationResult.csv')\n",
    "_trips = pd.read_csv(_trip_file, sep=\";\")\n",
    "# Attribute und Kopf der Trip-Tabelle\n",
    "trip_attributes = _trips.columns\n",
    "trips_head = _trips.head()\n",
    "# Anzahl aller Wege\n",
    "num_of_trips = len(_trips)\n",
    "# Verteilung der Wege auf die Personen\n",
    "_trips_per_person = _trips.groupby('personOid').size()\n",
    "_trips_per_person.hist(bins=20) #Histogramm-Plot\n",
    "num_of_trips_distr = _trips_per_person.value_counts()\n"
   ],
   "id": "2c72764c39a8071c",
   "outputs": [
    {
     "ename": "KeyboardInterrupt",
     "evalue": "",
     "output_type": "error",
     "traceback": [
      "\u001B[1;31m---------------------------------------------------------------------------\u001B[0m",
      "\u001B[1;31mKeyboardInterrupt\u001B[0m                         Traceback (most recent call last)",
      "Cell \u001B[1;32mIn[12], line 2\u001B[0m\n\u001B[0;32m      1\u001B[0m \u001B[38;5;66;03m# Short term - SIMULIERTE WEGE\u001B[39;00m\n\u001B[1;32m----> 2\u001B[0m \u001B[38;5;28;01mimport\u001B[39;00m \u001B[38;5;21;01mpandas\u001B[39;00m \u001B[38;5;28;01mas\u001B[39;00m \u001B[38;5;21;01mpd\u001B[39;00m\n\u001B[0;32m      3\u001B[0m \u001B[38;5;28;01mfrom\u001B[39;00m \u001B[38;5;21;01mos\u001B[39;00m\u001B[38;5;21;01m.\u001B[39;00m\u001B[38;5;21;01mpath\u001B[39;00m \u001B[38;5;28;01mimport\u001B[39;00m join\n\u001B[0;32m      4\u001B[0m \u001B[38;5;28;01mimport\u001B[39;00m \u001B[38;5;21;01mmatplotlib\u001B[39;00m\n",
      "File \u001B[1;32m_pydevd_bundle\\\\pydevd_cython_win32_312_64.pyx:1187\u001B[0m, in \u001B[0;36m_pydevd_bundle.pydevd_cython_win32_312_64.SafeCallWrapper.__call__\u001B[1;34m()\u001B[0m\n",
      "File \u001B[1;32m_pydevd_bundle\\\\pydevd_cython_win32_312_64.pyx:627\u001B[0m, in \u001B[0;36m_pydevd_bundle.pydevd_cython_win32_312_64.PyDBFrame.trace_dispatch\u001B[1;34m()\u001B[0m\n",
      "File \u001B[1;32m_pydevd_bundle\\\\pydevd_cython_win32_312_64.pyx:937\u001B[0m, in \u001B[0;36m_pydevd_bundle.pydevd_cython_win32_312_64.PyDBFrame.trace_dispatch\u001B[1;34m()\u001B[0m\n",
      "File \u001B[1;32m_pydevd_bundle\\\\pydevd_cython_win32_312_64.pyx:928\u001B[0m, in \u001B[0;36m_pydevd_bundle.pydevd_cython_win32_312_64.PyDBFrame.trace_dispatch\u001B[1;34m()\u001B[0m\n",
      "File \u001B[1;32m_pydevd_bundle\\\\pydevd_cython_win32_312_64.pyx:585\u001B[0m, in \u001B[0;36m_pydevd_bundle.pydevd_cython_win32_312_64.PyDBFrame.do_wait_suspend\u001B[1;34m()\u001B[0m\n",
      "File \u001B[1;32mC:\\Program Files\\JetBrains\\PyCharm 2025.1.1\\plugins\\python-ce\\helpers\\pydev\\pydevd.py:1220\u001B[0m, in \u001B[0;36mPyDB.do_wait_suspend\u001B[1;34m(self, thread, frame, event, arg, send_suspend_message, is_unhandled_exception)\u001B[0m\n\u001B[0;32m   1217\u001B[0m         from_this_thread\u001B[38;5;241m.\u001B[39mappend(frame_id)\n\u001B[0;32m   1219\u001B[0m \u001B[38;5;28;01mwith\u001B[39;00m \u001B[38;5;28mself\u001B[39m\u001B[38;5;241m.\u001B[39m_threads_suspended_single_notification\u001B[38;5;241m.\u001B[39mnotify_thread_suspended(thread_id, stop_reason):\n\u001B[1;32m-> 1220\u001B[0m     \u001B[38;5;28mself\u001B[39m\u001B[38;5;241m.\u001B[39m_do_wait_suspend(thread, frame, event, arg, suspend_type, from_this_thread)\n",
      "File \u001B[1;32mC:\\Program Files\\JetBrains\\PyCharm 2025.1.1\\plugins\\python-ce\\helpers\\pydev\\pydevd.py:1235\u001B[0m, in \u001B[0;36mPyDB._do_wait_suspend\u001B[1;34m(self, thread, frame, event, arg, suspend_type, from_this_thread)\u001B[0m\n\u001B[0;32m   1232\u001B[0m             \u001B[38;5;28mself\u001B[39m\u001B[38;5;241m.\u001B[39m_call_mpl_hook()\n\u001B[0;32m   1234\u001B[0m         \u001B[38;5;28mself\u001B[39m\u001B[38;5;241m.\u001B[39mprocess_internal_commands()\n\u001B[1;32m-> 1235\u001B[0m         time\u001B[38;5;241m.\u001B[39msleep(\u001B[38;5;241m0.01\u001B[39m)\n\u001B[0;32m   1237\u001B[0m \u001B[38;5;28mself\u001B[39m\u001B[38;5;241m.\u001B[39mcancel_async_evaluation(get_current_thread_id(thread), \u001B[38;5;28mstr\u001B[39m(\u001B[38;5;28mid\u001B[39m(frame)))\n\u001B[0;32m   1239\u001B[0m \u001B[38;5;66;03m# process any stepping instructions\u001B[39;00m\n",
      "\u001B[1;31mKeyboardInterrupt\u001B[0m: "
     ]
    }
   ],
   "execution_count": 12
  },
  {
   "metadata": {},
   "cell_type": "code",
   "outputs": [],
   "execution_count": null,
   "source": [
    "### Wegebezogener Modal Split ####\n",
    "\n",
    "# Einfache Berechnung\n",
    "modal_split_abs =_trips.tripMode.value_counts()\n",
    "modal_split_rel =_trips.tripMode.value_counts(normalize=True)\n",
    "# Funktion zur Berechnung des Modal Split erstellen\n",
    "# Zweck: folgenden Code uebersichtlicher halten\n",
    "def modal_split(trip_df):\n",
    "return trip_df.tripMode.value_counts(normalize=True)\n",
    "test_modal_split_funtion = modal_split(_trips)\n",
    "# Modal Split fuer Wege innerhalb Rastatt\n",
    "# (Start und Ziel in Zellen mit Nr. kleiner 6200)\n",
    "_sourceZone = _trips.sourceZone\n",
    "_targetZone = _trips.targetZone\n",
    "modal_split_in_rastatt\n",
    "= modal_split(_trips[(_sourceZone < 6200)\n",
    "& (_targetZone < 6200)])\n",
    "# Modal Split auf Arbeitswegen\n",
    "_activityType = _trips.activityType\n",
    "modal_split_work = modal_split(_trips[_activityType == 1])\n"
   ],
   "id": "5cc9c29888b292d1"
  }
 ],
 "metadata": {
  "kernelspec": {
   "display_name": "Python [conda env:base] *",
   "language": "python",
   "name": "conda-base-py"
  },
  "language_info": {
   "codemirror_mode": {
    "name": "ipython",
    "version": 2
   },
   "file_extension": ".py",
   "mimetype": "text/x-python",
   "name": "python",
   "nbconvert_exporter": "python",
   "pygments_lexer": "ipython2",
   "version": "2.7.6"
  }
 },
 "nbformat": 4,
 "nbformat_minor": 5
}

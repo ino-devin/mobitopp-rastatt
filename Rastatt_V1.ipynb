{
 "cells": [
  {
   "cell_type": "code",
   "id": "initial_id",
   "metadata": {
    "collapsed": true,
    "ExecuteTime": {
     "end_time": "2025-05-19T13:09:23.471215Z",
     "start_time": "2025-05-19T13:09:23.091837Z"
    }
   },
   "source": [
    "Langzeitmodus\n",
    "import pandas as pd\n",
    "from os.path import join\n",
    "\n",
    "# Ergebnisordner des Langzeitmoduls\n",
    "_path = r\"C:\\Users\\devin.feng\\Desktop\\Git\\mobitopp-rastatt\\output\\rastatt\\demand-data\"\n",
    "### Analyse der Haushalte\n",
    "_HH = pd.read_csv(join(_path, \"household.csv\"), sep=\";\")\n",
    "# Haushalts-Attribute\n",
    "household_attributes = list(_HH.columns)\n",
    "df = pd.DataFrame(household_attributes)\n",
    "\n",
    "# Anzahl Haushalte\n",
    "num_of_HH = len(_HH)\n",
    "# Haushalte pro Zelle\n",
    "HH_per_zone = _HH.homeZone.value_counts()\n",
    "# Anzahl der Pkw pro Haushalt\n",
    "cars_per_household = _HH.totalNumberOfCars.value_counts()\n",
    "print(household_attributes)\n",
    "\n",
    "### Analyse der Personen\n",
    "_persons = pd.read_csv(join(_path, \"person.csv\"), sep=\";\")\n",
    "# Personen-Attribute\n",
    "person_attributes = list(_persons.columns)\n",
    "# Anzahl Personen\n",
    "num_of_persons = len(_persons)\n",
    "# Alter\n",
    "mean_age = _persons.age.mean()\n",
    "# Geschlecht\n",
    "gender_distr = _persons.gender.value_counts(normalize=True)\n",
    "# Beschäftigung\n",
    "employment_distr = _persons.employment.value_counts()\n",
    "#Anzahl Personen pro Haushalt\n",
    "household_size_distr = _persons.groupby(\"householdId\").size().value_counts()\n",
    "### Auswertung Mobilitaetswerkzeuge\n",
    "# OeV-Zeitkarte\n",
    "ticket_distr = _persons.hasCommuterTicket.value_counts()\n",
    "# Fuehrerschein\n",
    "license_distr = _persons.hasLicense.value_counts()\n",
    "\n",
    "from pandas import merge\n",
    "### Verschneiden der Personen- und Haushaltstabelle\n",
    "### (für manche Fragestellungen erforderlich)\n",
    "_merged = pd.merge(_persons, _HH, on=\"householdId\")\n",
    "_age = _merged.age #Abkürzung für das 'age' attribut\n",
    "# Verteilung der Minderjaehrigen bzw. Volljaehrigen\n",
    "# in die Verkehrszellen\n",
    "persons_per_zone = _merged.homeZone.value_counts()\n",
    "minors_per_zone = _merged[_age < 18].homeZone.value_counts()\n",
    "adults_per_zone = _merged[_age >= 18].homeZone.value_counts()\n"
   ],
   "outputs": [
    {
     "name": "stdout",
     "output_type": "stream",
     "text": [
      "['householdId', 'year', 'householdNumber', 'nominalSize', 'domCode', 'type', 'homeZone', 'homeLocation', 'homeX', 'homeY', 'numberOfMinors', 'numberOfNotSimulatedChildren', 'totalNumberOfCars', 'income', 'incomeClass', 'economicalStatus', 'canChargePrivately']\n"
     ]
    }
   ],
   "execution_count": 32
  },
  {
   "metadata": {
    "ExecuteTime": {
     "end_time": "2025-05-19T12:45:35.017919Z",
     "start_time": "2025-05-19T12:45:35.013141Z"
    }
   },
   "cell_type": "code",
   "source": "",
   "id": "457e3197e3e94fe3",
   "outputs": [],
   "execution_count": null
  },
  {
   "metadata": {
    "ExecuteTime": {
     "end_time": "2025-05-19T13:38:06.395639Z",
     "start_time": "2025-05-19T13:38:04.407486Z"
    }
   },
   "cell_type": "code",
   "source": [
    "# HHs in short term model\n",
    "\n",
    "import pandas as pd\n",
    "from os.path import join\n",
    "import matplotlib\n",
    "\n",
    "(matplotlib.style.use('fivethirtyeight'))\n",
    "\n",
    "_path = r\"C:\\Users\\devin.feng\\Desktop\\Git\\mobitopp-rastatt\\output\"\n",
    "_short_term_path = join(_path, 'rastatt/results/simulation')\n",
    "_long_term_path = join(_path, 'rastatt/demand-data')\n",
    "### Einstieg (Uebersicht ueber die Daten gewinnen) ###\n",
    "_trip_file = join(_short_term_path, 'demandsimulationResult.csv')\n",
    "_trips = pd.read_csv(_trip_file, sep=\";\")\n",
    "# Attribute und Kopf der Trip-Tabelle\n",
    "trip_attributes = _trips.columns\n",
    "trips_head = _trips.head()\n",
    "# Anzahl aller Wege\n",
    "num_of_trips = len(_trips)\n",
    "# Verteilung der Wege auf die Personen\n",
    "_trips_per_person = _trips.groupby('personOid').size()\n",
    "_trips_per_person.hist(bins=20) #Histogramm-Plot\n",
    "num_of_trips_distr = _trips_per_person.value_counts()\n"
   ],
   "id": "2c72764c39a8071c",
   "outputs": [
    {
     "data": {
      "text/plain": [
       "<Figure size 640x480 with 1 Axes>"
      ],
      "image/png": "[encoded data removed]"
     },
     "metadata": {},
     "output_type": "display_data"
    }
   ],
   "execution_count": 34
  },
  {
   "metadata": {},
   "cell_type": "code",
   "outputs": [],
   "execution_count": null,
   "source": "",
   "id": "fcc8753ed7543d13"
  }
 ],
 "metadata": {
  "kernelspec": {
   "display_name": "Python [conda env:base] *",
   "language": "python",
   "name": "conda-base-py"
  },
  "language_info": {
   "codemirror_mode": {
    "name": "ipython",
    "version": 2
   },
   "file_extension": ".py",
   "mimetype": "text/x-python",
   "name": "python",
   "nbconvert_exporter": "python",
   "pygments_lexer": "ipython2",
   "version": "2.7.6"
  }
 },
 "nbformat": 4,
 "nbformat_minor": 5
}
